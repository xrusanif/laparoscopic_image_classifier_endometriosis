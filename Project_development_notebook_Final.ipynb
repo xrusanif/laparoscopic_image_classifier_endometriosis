{
 "cells": [
  {
   "cell_type": "markdown",
   "id": "942eff7b",
   "metadata": {},
   "source": [
    "# Import packages"
   ]
  },
  {
   "cell_type": "code",
   "execution_count": 1,
   "id": "7f40b47e",
   "metadata": {
    "ExecuteTime": {
     "end_time": "2022-03-07T21:56:49.527174Z",
     "start_time": "2022-03-07T21:56:39.392200Z"
    }
   },
   "outputs": [],
   "source": [
    "import os\n",
    "import shutil\n",
    "import uuid\n",
    "import numpy as np\n",
    "import pandas as pd\n",
    "import matplotlib.pyplot as plt\n",
    "import seaborn as sns\n",
    "import cv2\n",
    "\n",
    "from tensorflow.keras.preprocessing.image import load_img\n",
    "from tensorflow.keras.preprocessing import image\n",
    "from tensorflow.keras.callbacks import EarlyStopping\n",
    "from tensorflow.keras.utils import plot_model\n",
    "from tensorflow.keras.utils import to_categorical\n",
    "from tensorflow.keras.models import Sequential\n",
    "from tensorflow.keras.layers import Conv2D, Dense, MaxPooling2D, Activation, Flatten, Dropout, BatchNormalization\n",
    "from tensorflow.keras import models, layers\n",
    "from tensorflow.keras.optimizers import Adam\n",
    "from tensorflow.keras.applications.resnet50 import ResNet50\n",
    "from tensorflow.keras.applications.resnet50 import preprocess_input, decode_predictions\n",
    "from tensorflow.keras.layers import Input\n",
    "from tensorflow.keras import backend as K\n",
    "\n",
    "from sklearn.preprocessing import OneHotEncoder\n",
    "from sklearn.model_selection import train_test_split\n",
    "\n"
   ]
  },
  {
   "cell_type": "markdown",
   "id": "08126beb",
   "metadata": {},
   "source": [
    "# Move files from subfolders into pathology and healthy datasets"
   ]
  },
  {
   "cell_type": "code",
   "execution_count": 2,
   "id": "9a6ed5f4",
   "metadata": {
    "ExecuteTime": {
     "end_time": "2022-03-07T21:56:49.539537Z",
     "start_time": "2022-03-07T21:56:49.529552Z"
    }
   },
   "outputs": [],
   "source": [
    "# Extract the images of pathology from the various subfolders into one\n",
    "\n",
    "#root_dir = '/home/xrusa/Documents/euclidean-eukalyptus/work_in_progress/Final project/GLENDA_v1.0/DS/pathology/frames'\n",
    "#dest_dir = '/home/xrusa/Documents/euclidean-eukalyptus/work_in_progress/Final project/pathology_train'\n",
    "\n",
    "\n",
    "\n",
    "#for folder in os.listdir(root_dir):\n",
    "#   folder_path = os.path.join(root_dir, folder)\n",
    "#    for filename in os.listdir(folder_path):\n",
    "#            file_path = os.path.join(root_dir, folder, filename)\n",
    "#            dest_path = os.path.join(dest_dir, filename+str(uuid.uuid4()))\n",
    "#            shutil.copy(file_path, dest_path)\n",
    "#            print(\"Copied \", file_path, \"to\", dest_path)\n",
    "\n",
    "\n",
    "def extract_files_from_subfolders(root_directory, destination_directory):\n",
    "    \"\"\"\n",
    "    Extracts files from subfolders in the root directory\n",
    "    and places them into one folder aka destination directory. \n",
    "    The files are assigned a new random name to avoid overwriting.\n",
    "    \"\"\"\n",
    "    for folder in os.listdir(root_directory):\n",
    "        folder_path = os.path.join(root_directory, folder)\n",
    "        for filename in os.listdir(folder_path):\n",
    "            file_path = os.path.join(root_directory, folder, filename)\n",
    "            dest_path = os.path.join(destination_dir, filename+str(uuid.uuid4()))\n",
    "            shutil.copy(file_path, dest_path)\n",
    "            print(\"Copied \", file_path, \"to\", dest_path)\n",
    "\n",
    "\n",
    "     \n"
   ]
  },
  {
   "cell_type": "code",
   "execution_count": 3,
   "id": "ccb6df9c",
   "metadata": {
    "ExecuteTime": {
     "end_time": "2022-03-07T21:56:49.551907Z",
     "start_time": "2022-03-07T21:56:49.542201Z"
    }
   },
   "outputs": [],
   "source": [
    "# Extract the images of non pathology from the various subfolders into one\n",
    "\n",
    "#root_dir_healthy = '/home/xrusa/Documents/euclidean-eukalyptus/work_in_progress/Final project/GLENDA_v1.0/DS/no_pathology/frames'\n",
    "#dest_dir_healthy = '/home/xrusa/Documents/euclidean-eukalyptus/work_in_progress/Final project/healthy_train'\n",
    "\n",
    "\n",
    "#for folder in os.listdir(root_dir_healthy):\n",
    "#    folder_path = os.path.join(root_dir_healthy, folder)\n",
    "#    for filename in os.listdir(folder_path):\n",
    "#            file_path = os.path.join(root_dir_healthy, folder, filename)\n",
    "#            dest_path = os.path.join(dest_dir_healthy, filename+str(uuid.uuid4()))\n",
    "#            shutil.copy(file_path, dest_path)\n",
    "#            print(\"Copied \", file_path, \"to\", dest_path)\n",
    "\n",
    "\n",
    "    \n",
    "\n",
    "        \n"
   ]
  },
  {
   "cell_type": "markdown",
   "id": "65e96fa6",
   "metadata": {},
   "source": [
    "# Turn images into numpy arrays"
   ]
  },
  {
   "cell_type": "markdown",
   "id": "5b7f237f",
   "metadata": {},
   "source": [
    "## Try with 2000 samples from each class\n"
   ]
  },
  {
   "cell_type": "code",
   "execution_count": 4,
   "id": "3abf7e1a",
   "metadata": {
    "ExecuteTime": {
     "end_time": "2022-03-07T21:57:14.961990Z",
     "start_time": "2022-03-07T21:56:56.013584Z"
    }
   },
   "outputs": [],
   "source": [
    "\n",
    "X = []\n",
    "y = []\n",
    "classes = ['healthy', 'pathology']\n",
    "base_path = '/home/xrusa/Documents/euclidean-eukalyptus/work_in_progress/Final project/'\n",
    "\n",
    "for i, target in enumerate(classes):\n",
    "    files = base_path+target+'/'\n",
    "    for file in os.listdir(files):\n",
    "        # load the image\n",
    "        img = image.load_img(files+file)\n",
    "        # convert it to an array\n",
    "        img_array = image.img_to_array(img, dtype='uint8')\n",
    "        # resize to fit resnet50\n",
    "        img_array = cv2.resize(img_array, dsize=(224, 224), interpolation=cv2.INTER_CUBIC)\n",
    "        # append the array to X\n",
    "        X.append(img_array)\n",
    "        # append the target to y\n",
    "        y.append(target)\n",
    "\n",
    "\n",
    "X = np.array(X)\n",
    "y = np.array(y)\n",
    "\n",
    "\n",
    "               # image = np.expand_dims(image, axis=3)\n",
    "\n"
   ]
  },
  {
   "cell_type": "code",
   "execution_count": 5,
   "id": "f74ffa43",
   "metadata": {
    "ExecuteTime": {
     "end_time": "2022-03-07T21:57:31.907021Z",
     "start_time": "2022-03-07T21:57:31.892000Z"
    }
   },
   "outputs": [],
   "source": [
    "y_dict = {'healthy':0, 'pathology':1}\n",
    "y = np.vectorize(y_dict.get)(y)"
   ]
  },
  {
   "cell_type": "markdown",
   "id": "5d5f1513",
   "metadata": {},
   "source": [
    "## Shuffle the data"
   ]
  },
  {
   "cell_type": "code",
   "execution_count": 6,
   "id": "06e65a14",
   "metadata": {
    "ExecuteTime": {
     "end_time": "2022-03-07T21:57:35.017912Z",
     "start_time": "2022-03-07T21:57:33.532681Z"
    }
   },
   "outputs": [],
   "source": [
    "# shuffle the data\n",
    "shuffler = np.random.permutation(len(X))\n",
    "X = X[shuffler]\n",
    "y = y[shuffler]"
   ]
  },
  {
   "cell_type": "code",
   "execution_count": 7,
   "id": "1cbc4ee1",
   "metadata": {
    "ExecuteTime": {
     "end_time": "2022-03-07T21:57:45.368622Z",
     "start_time": "2022-03-07T21:57:45.360086Z"
    }
   },
   "outputs": [
    {
     "data": {
      "text/plain": [
       "((4446, 224, 224, 3), (4446,))"
      ]
     },
     "execution_count": 7,
     "metadata": {},
     "output_type": "execute_result"
    }
   ],
   "source": [
    "X.shape, y.shape"
   ]
  },
  {
   "cell_type": "code",
   "execution_count": 8,
   "id": "47e9b59f",
   "metadata": {
    "ExecuteTime": {
     "end_time": "2022-03-07T21:57:46.268719Z",
     "start_time": "2022-03-07T21:57:46.261910Z"
    }
   },
   "outputs": [
    {
     "data": {
      "text/plain": [
       "array([1, 1, 1, ..., 0, 1, 1])"
      ]
     },
     "execution_count": 8,
     "metadata": {},
     "output_type": "execute_result"
    }
   ],
   "source": [
    "y"
   ]
  },
  {
   "cell_type": "code",
   "execution_count": null,
   "id": "0aeb8fee",
   "metadata": {
    "ExecuteTime": {
     "end_time": "2022-03-04T12:08:10.762466Z",
     "start_time": "2022-03-04T12:08:10.708799Z"
    }
   },
   "outputs": [],
   "source": []
  },
  {
   "cell_type": "code",
   "execution_count": null,
   "id": "b28a8df1",
   "metadata": {},
   "outputs": [],
   "source": []
  },
  {
   "cell_type": "markdown",
   "id": "12862b92",
   "metadata": {},
   "source": [
    "# Built a basic model"
   ]
  },
  {
   "cell_type": "markdown",
   "id": "201e6595",
   "metadata": {},
   "source": [
    "## Split the data"
   ]
  },
  {
   "cell_type": "code",
   "execution_count": 9,
   "id": "68953f0c",
   "metadata": {
    "ExecuteTime": {
     "end_time": "2022-03-07T21:57:52.714882Z",
     "start_time": "2022-03-07T21:57:52.524035Z"
    }
   },
   "outputs": [],
   "source": [
    "X_train, X_test, y_train, y_test = train_test_split(X, y, random_state=42, train_size=0.8, test_size=0.2)"
   ]
  },
  {
   "cell_type": "code",
   "execution_count": 10,
   "id": "f74de9de",
   "metadata": {
    "ExecuteTime": {
     "end_time": "2022-03-07T21:57:54.073597Z",
     "start_time": "2022-03-07T21:57:54.065690Z"
    }
   },
   "outputs": [
    {
     "data": {
      "text/plain": [
       "((3556, 224, 224, 3), (3556,), (890, 224, 224, 3), (890,))"
      ]
     },
     "execution_count": 10,
     "metadata": {},
     "output_type": "execute_result"
    }
   ],
   "source": [
    "X_train.shape,y_train.shape,X_test.shape,y_test.shape"
   ]
  },
  {
   "cell_type": "code",
   "execution_count": 11,
   "id": "d1dde253",
   "metadata": {
    "ExecuteTime": {
     "end_time": "2022-03-07T21:57:54.909559Z",
     "start_time": "2022-03-07T21:57:54.887554Z"
    }
   },
   "outputs": [
    {
     "data": {
      "text/plain": [
       "((3556, 2), (890, 2))"
      ]
     },
     "execution_count": 11,
     "metadata": {},
     "output_type": "execute_result"
    }
   ],
   "source": [
    "y_train = to_categorical(y_train)\n",
    "y_test = to_categorical(y_test)\n",
    "y_train.shape, y_test.shape"
   ]
  },
  {
   "cell_type": "code",
   "execution_count": 12,
   "id": "f3c9eb4c",
   "metadata": {
    "ExecuteTime": {
     "end_time": "2022-03-07T21:57:59.733949Z",
     "start_time": "2022-03-07T21:57:59.721163Z"
    }
   },
   "outputs": [
    {
     "data": {
      "text/plain": [
       "((3556, 224, 224, 3), (3556, 2), (890, 224, 224, 3), (890, 2))"
      ]
     },
     "execution_count": 12,
     "metadata": {},
     "output_type": "execute_result"
    }
   ],
   "source": [
    "X_train.shape,y_train.shape,X_test.shape,y_test.shape"
   ]
  },
  {
   "cell_type": "code",
   "execution_count": 13,
   "id": "6db02556",
   "metadata": {
    "ExecuteTime": {
     "end_time": "2022-03-07T21:58:01.482494Z",
     "start_time": "2022-03-07T21:58:01.181075Z"
    },
    "scrolled": true
   },
   "outputs": [
    {
     "data": {
      "text/plain": [
       "<matplotlib.image.AxesImage at 0x7fb1e2712250>"
      ]
     },
     "execution_count": 13,
     "metadata": {},
     "output_type": "execute_result"
    },
    {
     "data": {
      "image/png": "[encoded data removed]",
      "text/plain": [
       "<Figure size 432x288 with 1 Axes>"
      ]
     },
     "metadata": {
      "needs_background": "light"
     },
     "output_type": "display_data"
    }
   ],
   "source": [
    "plt.imshow(X[0])"
   ]
  },
  {
   "cell_type": "code",
   "execution_count": 14,
   "id": "dee9be0d",
   "metadata": {
    "ExecuteTime": {
     "end_time": "2022-03-07T21:58:02.369827Z",
     "start_time": "2022-03-07T21:58:02.360151Z"
    }
   },
   "outputs": [
    {
     "data": {
      "text/plain": [
       "(224, 224, 3)"
      ]
     },
     "execution_count": 14,
     "metadata": {},
     "output_type": "execute_result"
    }
   ],
   "source": [
    "np.shape(X[0])"
   ]
  },
  {
   "cell_type": "code",
   "execution_count": null,
   "id": "2ebcada0",
   "metadata": {
    "ExecuteTime": {
     "end_time": "2022-03-04T12:13:46.654690Z",
     "start_time": "2022-03-04T12:13:46.646148Z"
    }
   },
   "outputs": [],
   "source": [
    "type(X[0])"
   ]
  },
  {
   "cell_type": "markdown",
   "id": "8ac03b04",
   "metadata": {},
   "source": [
    "## Define the model"
   ]
  },
  {
   "cell_type": "code",
   "execution_count": 25,
   "id": "5d935e37",
   "metadata": {
    "ExecuteTime": {
     "end_time": "2022-03-08T10:53:13.426716Z",
     "start_time": "2022-03-08T10:53:11.483317Z"
    }
   },
   "outputs": [],
   "source": [
    "K.clear_session()\n",
    "res_model = ResNet50(include_top=False,\n",
    "                     weights=\"imagenet\",\n",
    "                     pooling='avg',\n",
    "                     input_tensor=Input(shape=(224, 224, 3)))"
   ]
  },
  {
   "cell_type": "code",
   "execution_count": null,
   "id": "c8b70630",
   "metadata": {
    "ExecuteTime": {
     "end_time": "2022-03-04T12:14:15.861253Z",
     "start_time": "2022-03-04T12:14:15.733365Z"
    }
   },
   "outputs": [],
   "source": [
    "res_model.summary()"
   ]
  },
  {
   "cell_type": "code",
   "execution_count": 26,
   "id": "d7a33fd6",
   "metadata": {
    "ExecuteTime": {
     "end_time": "2022-03-08T10:53:15.691861Z",
     "start_time": "2022-03-08T10:53:15.674331Z"
    }
   },
   "outputs": [],
   "source": [
    "# freeze it!\n",
    "res_model.trainable = False"
   ]
  },
  {
   "cell_type": "code",
   "execution_count": 27,
   "id": "bb3e53c7",
   "metadata": {
    "ExecuteTime": {
     "end_time": "2022-03-08T10:53:18.101790Z",
     "start_time": "2022-03-08T10:53:18.088171Z"
    }
   },
   "outputs": [
    {
     "data": {
      "text/plain": [
       "2"
      ]
     },
     "execution_count": 27,
     "metadata": {},
     "output_type": "execute_result"
    }
   ],
   "source": [
    "len(classes)"
   ]
  },
  {
   "cell_type": "code",
   "execution_count": null,
   "id": "88debd6a",
   "metadata": {
    "ExecuteTime": {
     "end_time": "2022-03-04T12:14:18.184993Z",
     "start_time": "2022-03-04T12:14:17.704084Z"
    }
   },
   "outputs": [],
   "source": [
    "model = Sequential()\n",
    "model.add(res_model)\n",
    "\n",
    "model.add(Dense(128, activation='relu'))\n",
    "model.add(Dropout(0.3))\n",
    "model.add(Dense(len(classes), activation='softmax')) #!!! Final layer with a length of 2, and softmax activation \n",
    "# have a look at the trainable and non-trainable params statistic\n",
    "model.summary()"
   ]
  },
  {
   "cell_type": "code",
   "execution_count": null,
   "id": "f7357f39",
   "metadata": {
    "ExecuteTime": {
     "end_time": "2022-03-04T12:14:19.904637Z",
     "start_time": "2022-03-04T12:14:19.887228Z"
    }
   },
   "outputs": [],
   "source": [
    "\n",
    "model.compile(optimizer=Adam(learning_rate=0.001),loss='categorical_crossentropy',metrics=['accuracy'])"
   ]
  },
  {
   "cell_type": "markdown",
   "id": "c2c0cb1b",
   "metadata": {},
   "source": [
    "## Fit the data"
   ]
  },
  {
   "cell_type": "code",
   "execution_count": null,
   "id": "22ba44f0",
   "metadata": {
    "ExecuteTime": {
     "end_time": "2022-03-04T13:11:22.677913Z",
     "start_time": "2022-03-04T12:14:21.591884Z"
    }
   },
   "outputs": [],
   "source": [
    "# observe the validation loss and stop when it does not improve after 3 iterations\n",
    "callback = EarlyStopping(monitor='val_loss', patience=3)\n",
    "\n",
    "history = model.fit(X_train, y_train, \n",
    "                    epochs=50, \n",
    "                    verbose=2,\n",
    "                    callbacks=[callback],\n",
    "                    # use 30% of the data for validation\n",
    "                    validation_split=0.3)"
   ]
  },
  {
   "cell_type": "code",
   "execution_count": null,
   "id": "371b57a0",
   "metadata": {
    "ExecuteTime": {
     "end_time": "2022-03-04T13:11:44.960703Z",
     "start_time": "2022-03-04T13:11:44.926873Z"
    }
   },
   "outputs": [],
   "source": [
    "history.history"
   ]
  },
  {
   "cell_type": "markdown",
   "id": "2984ed6f",
   "metadata": {},
   "source": [
    "## Save the model"
   ]
  },
  {
   "cell_type": "code",
   "execution_count": null,
   "id": "e2171ff0",
   "metadata": {
    "ExecuteTime": {
     "end_time": "2022-03-04T13:11:48.474763Z",
     "start_time": "2022-03-04T13:11:47.589046Z"
    }
   },
   "outputs": [],
   "source": [
    "model.save('/home/xrusa/Documents/euclidean-eukalyptus/work_in_progress/Final project/web_app/model/model_endometriosis.h5')\n"
   ]
  },
  {
   "cell_type": "markdown",
   "id": "7b7b7fec",
   "metadata": {},
   "source": [
    "## Visualise the performance"
   ]
  },
  {
   "cell_type": "code",
   "execution_count": null,
   "id": "b26679da",
   "metadata": {
    "ExecuteTime": {
     "end_time": "2022-03-04T13:11:51.039170Z",
     "start_time": "2022-03-04T13:11:50.424889Z"
    }
   },
   "outputs": [],
   "source": [
    "from matplotlib import pyplot as plt\n",
    "plt.plot(history.history['accuracy'])\n",
    "plt.plot(history.history['val_accuracy'])\n",
    "plt.xlabel('epochs')\n",
    "plt.ylabel('accuracy')"
   ]
  },
  {
   "cell_type": "code",
   "execution_count": null,
   "id": "a8c55102",
   "metadata": {
    "ExecuteTime": {
     "end_time": "2022-03-04T13:11:53.169223Z",
     "start_time": "2022-03-04T13:11:52.960483Z"
    }
   },
   "outputs": [],
   "source": [
    "from matplotlib import pyplot as plt\n",
    "plt.plot(history.history['loss'])\n",
    "plt.plot(history.history['val_loss'])\n",
    "plt.xlabel('epochs')\n",
    "plt.ylabel('loss')"
   ]
  },
  {
   "cell_type": "code",
   "execution_count": null,
   "id": "b1be6d5a",
   "metadata": {
    "ExecuteTime": {
     "end_time": "2022-03-04T13:18:40.153928Z",
     "start_time": "2022-03-04T13:17:13.692606Z"
    }
   },
   "outputs": [],
   "source": [
    "pred = model.predict(X_test)"
   ]
  },
  {
   "cell_type": "code",
   "execution_count": null,
   "id": "71dd82b3",
   "metadata": {
    "ExecuteTime": {
     "end_time": "2022-03-04T13:18:40.177872Z",
     "start_time": "2022-03-04T13:18:40.157898Z"
    }
   },
   "outputs": [],
   "source": [
    "y_pred = np.argmax(pred, axis=1)\n",
    "y_pred[2]"
   ]
  },
  {
   "cell_type": "code",
   "execution_count": null,
   "id": "152865a5",
   "metadata": {
    "ExecuteTime": {
     "end_time": "2022-03-04T13:18:40.186463Z",
     "start_time": "2022-03-04T13:18:40.181502Z"
    }
   },
   "outputs": [],
   "source": [
    "y_test = np.argmax(y_test, axis=1)"
   ]
  },
  {
   "cell_type": "code",
   "execution_count": null,
   "id": "c5c5c79d",
   "metadata": {
    "ExecuteTime": {
     "end_time": "2022-03-04T13:18:40.220735Z",
     "start_time": "2022-03-04T13:18:40.191431Z"
    }
   },
   "outputs": [],
   "source": [
    "from sklearn.metrics import confusion_matrix\n",
    "\n",
    "confusion_matrix(y_test, y_pred)"
   ]
  },
  {
   "cell_type": "code",
   "execution_count": null,
   "id": "faa583d6",
   "metadata": {
    "ExecuteTime": {
     "end_time": "2022-03-04T13:18:40.240198Z",
     "start_time": "2022-03-04T13:18:40.226629Z"
    }
   },
   "outputs": [],
   "source": [
    "X_train[2].shape"
   ]
  },
  {
   "cell_type": "code",
   "execution_count": null,
   "id": "55c42190",
   "metadata": {
    "ExecuteTime": {
     "end_time": "2022-03-04T13:18:40.617216Z",
     "start_time": "2022-03-04T13:18:40.257523Z"
    }
   },
   "outputs": [],
   "source": [
    "plt.imshow(X_train[2])"
   ]
  },
  {
   "cell_type": "code",
   "execution_count": null,
   "id": "294853fc",
   "metadata": {
    "ExecuteTime": {
     "end_time": "2022-03-04T13:18:40.633436Z",
     "start_time": "2022-03-04T13:18:40.623510Z"
    }
   },
   "outputs": [],
   "source": [
    "y_test[2]"
   ]
  },
  {
   "cell_type": "markdown",
   "id": "e2a09b1d",
   "metadata": {},
   "source": [
    "## Unseen data - validate"
   ]
  },
  {
   "cell_type": "code",
   "execution_count": null,
   "id": "b6422016",
   "metadata": {},
   "outputs": [],
   "source": []
  },
  {
   "cell_type": "code",
   "execution_count": null,
   "id": "e8eed4ab",
   "metadata": {},
   "outputs": [],
   "source": []
  },
  {
   "cell_type": "code",
   "execution_count": null,
   "id": "09ea6221",
   "metadata": {
    "ExecuteTime": {
     "end_time": "2022-03-04T13:18:43.881461Z",
     "start_time": "2022-03-04T13:18:40.641694Z"
    }
   },
   "outputs": [],
   "source": [
    "model = models.load_model('/home/xrusa/Documents/euclidean-eukalyptus/work_in_progress/Final project/web_app/model/model_endometriosis.h5')"
   ]
  },
  {
   "cell_type": "code",
   "execution_count": null,
   "id": "cbf1e770",
   "metadata": {
    "ExecuteTime": {
     "end_time": "2022-03-04T13:18:43.887625Z",
     "start_time": "2022-03-04T13:18:43.883143Z"
    }
   },
   "outputs": [],
   "source": [
    "def image_preproccess(file):\n",
    "    img = image.load_img(file)\n",
    "    # convert it to an array\n",
    "    img_array = image.img_to_array(img, dtype='uint8')\n",
    "    # resize to fit resnet50\n",
    "    img_array = cv2.resize(img_array, dsize=(224, 224), interpolation=cv2.INTER_CUBIC)\n",
    "    # append the array to X\n",
    "    return np.array(img_array)\n",
    "\n",
    "    \n",
    "    "
   ]
  },
  {
   "cell_type": "code",
   "execution_count": null,
   "id": "7a5064d4",
   "metadata": {
    "ExecuteTime": {
     "end_time": "2022-03-04T13:18:44.059617Z",
     "start_time": "2022-03-04T13:18:43.891668Z"
    }
   },
   "outputs": [],
   "source": [
    "test_image = image_preproccess('/home/xrusa/Downloads/endome.png')"
   ]
  },
  {
   "cell_type": "code",
   "execution_count": null,
   "id": "5f2a9b2a",
   "metadata": {
    "ExecuteTime": {
     "end_time": "2022-03-04T13:18:44.080160Z",
     "start_time": "2022-03-04T13:18:44.062943Z"
    }
   },
   "outputs": [],
   "source": [
    "\n",
    "test_image.shape"
   ]
  },
  {
   "cell_type": "code",
   "execution_count": null,
   "id": "a4965fe2",
   "metadata": {
    "ExecuteTime": {
     "end_time": "2022-03-04T13:18:44.498228Z",
     "start_time": "2022-03-04T13:18:44.089758Z"
    }
   },
   "outputs": [],
   "source": [
    "plt.imshow(test_image)"
   ]
  },
  {
   "cell_type": "code",
   "execution_count": null,
   "id": "7e7624d2",
   "metadata": {
    "ExecuteTime": {
     "end_time": "2022-03-04T13:18:46.484257Z",
     "start_time": "2022-03-04T13:18:44.503499Z"
    }
   },
   "outputs": [],
   "source": [
    "q = model.predict( np.array( [test_image,] )  )\n",
    "q"
   ]
  },
  {
   "cell_type": "code",
   "execution_count": null,
   "id": "4f33b225",
   "metadata": {
    "ExecuteTime": {
     "end_time": "2022-03-04T13:18:46.506914Z",
     "start_time": "2022-03-04T13:18:46.493217Z"
    }
   },
   "outputs": [],
   "source": [
    "a = np.argmax(q, axis=1)\n",
    "a"
   ]
  },
  {
   "cell_type": "code",
   "execution_count": null,
   "id": "ce1aaadc",
   "metadata": {
    "ExecuteTime": {
     "end_time": "2022-03-04T13:18:46.522457Z",
     "start_time": "2022-03-04T13:18:46.512071Z"
    }
   },
   "outputs": [],
   "source": [
    "if a == 1:\n",
    "    print(\"pathology\")\n",
    "else:\n",
    "    print(\"healthy\")"
   ]
  },
  {
   "cell_type": "code",
   "execution_count": null,
   "id": "3d217193",
   "metadata": {
    "ExecuteTime": {
     "end_time": "2022-03-04T13:18:46.531818Z",
     "start_time": "2022-03-04T13:18:46.525891Z"
    }
   },
   "outputs": [],
   "source": [
    "y_dict"
   ]
  },
  {
   "cell_type": "code",
   "execution_count": null,
   "id": "b2c4ee09",
   "metadata": {
    "ExecuteTime": {
     "end_time": "2022-03-04T14:56:12.575139Z",
     "start_time": "2022-03-04T14:56:12.565757Z"
    }
   },
   "outputs": [],
   "source": [
    "q = np.array([0.96803135, 0.03196873])"
   ]
  },
  {
   "cell_type": "code",
   "execution_count": null,
   "id": "e951e7db",
   "metadata": {
    "ExecuteTime": {
     "end_time": "2022-03-04T14:56:20.589110Z",
     "start_time": "2022-03-04T14:56:20.579288Z"
    }
   },
   "outputs": [],
   "source": [
    "np.amax(q)"
   ]
  },
  {
   "cell_type": "code",
   "execution_count": null,
   "id": "fa2f530d",
   "metadata": {
    "ExecuteTime": {
     "end_time": "2022-03-04T14:56:35.495917Z",
     "start_time": "2022-03-04T14:56:35.488733Z"
    }
   },
   "outputs": [],
   "source": [
    "np.max(q) * 100 "
   ]
  },
  {
   "cell_type": "code",
   "execution_count": null,
   "id": "75544c1a",
   "metadata": {
    "ExecuteTime": {
     "end_time": "2022-03-04T14:56:52.360592Z",
     "start_time": "2022-03-04T14:56:52.352453Z"
    }
   },
   "outputs": [],
   "source": [
    "np.round(np.max(q) * 100 )"
   ]
  },
  {
   "cell_type": "markdown",
   "id": "ddd117e7",
   "metadata": {},
   "source": [
    "# Tensorboard"
   ]
  },
  {
   "cell_type": "code",
   "execution_count": 1,
   "id": "ee0557c9",
   "metadata": {
    "ExecuteTime": {
     "end_time": "2022-03-09T10:31:02.680936Z",
     "start_time": "2022-03-09T10:31:02.636727Z"
    }
   },
   "outputs": [],
   "source": [
    "%load_ext tensorboard"
   ]
  },
  {
   "cell_type": "code",
   "execution_count": 2,
   "id": "3d702ac4",
   "metadata": {
    "ExecuteTime": {
     "end_time": "2022-03-09T10:31:10.087739Z",
     "start_time": "2022-03-09T10:31:03.050779Z"
    }
   },
   "outputs": [],
   "source": [
    "import tensorflow as tf\n",
    "import datetime"
   ]
  },
  {
   "cell_type": "code",
   "execution_count": 17,
   "id": "e1563d74",
   "metadata": {
    "ExecuteTime": {
     "end_time": "2022-03-07T21:58:20.988097Z",
     "start_time": "2022-03-07T21:58:18.958512Z"
    }
   },
   "outputs": [
    {
     "name": "stderr",
     "output_type": "stream",
     "text": [
      "2022-03-07 22:58:19.036797: I tensorflow/core/platform/cpu_feature_guard.cc:142] This TensorFlow binary is optimized with oneAPI Deep Neural Network Library (oneDNN) to use the following CPU instructions in performance-critical operations:  SSE4.1 SSE4.2 AVX AVX2 FMA\n",
      "To enable them in other operations, rebuild TensorFlow with the appropriate compiler flags.\n",
      "2022-03-07 22:58:19.039682: I tensorflow/core/common_runtime/process_util.cc:146] Creating new thread pool with default inter op setting: 2. Tune using inter_op_parallelism_threads for best performance.\n"
     ]
    }
   ],
   "source": [
    " model = models.load_model('/home/xrusa/Documents/euclidean-eukalyptus/work_in_progress/Final project/web_app/model/model_endometriosis.h5')"
   ]
  },
  {
   "cell_type": "code",
   "execution_count": 18,
   "id": "0b502391",
   "metadata": {
    "ExecuteTime": {
     "end_time": "2022-03-07T22:29:10.100154Z",
     "start_time": "2022-03-07T21:58:26.568893Z"
    }
   },
   "outputs": [
    {
     "name": "stderr",
     "output_type": "stream",
     "text": [
      "2022-03-07 22:58:26.594902: I tensorflow/core/profiler/lib/profiler_session.cc:131] Profiler session initializing.\n",
      "2022-03-07 22:58:26.594934: I tensorflow/core/profiler/lib/profiler_session.cc:146] Profiler session started.\n",
      "2022-03-07 22:58:26.597176: I tensorflow/core/profiler/lib/profiler_session.cc:164] Profiler session tear down.\n",
      "/home/xrusa/anaconda3/envs/tf/lib/python3.9/site-packages/tensorflow/python/keras/utils/generic_utils.py:494: CustomMaskWarning: Custom mask layers require a config and must override get_config. When loading, the custom mask layer must be passed to the custom_objects argument.\n",
      "  warnings.warn('Custom mask layers require a config and must override '\n",
      "2022-03-07 22:58:27.255477: I tensorflow/compiler/mlir/mlir_graph_optimization_pass.cc:185] None of the MLIR Optimization Passes are enabled (registered 2)\n"
     ]
    },
    {
     "name": "stdout",
     "output_type": "stream",
     "text": [
      "Epoch 1/5\n",
      "  1/112 [..............................] - ETA: 12:14 - loss: 9.4059e-04 - accuracy: 1.0000"
     ]
    },
    {
     "name": "stderr",
     "output_type": "stream",
     "text": [
      "2022-03-07 22:58:34.205063: I tensorflow/core/profiler/lib/profiler_session.cc:131] Profiler session initializing.\n",
      "2022-03-07 22:58:34.205161: I tensorflow/core/profiler/lib/profiler_session.cc:146] Profiler session started.\n"
     ]
    },
    {
     "name": "stdout",
     "output_type": "stream",
     "text": [
      "\b\b\b\b\b\b\b\b\b\b\b\b\b\b\b\b\b\b\b\b\b\b\b\b\b\b\b\b\b\b\b\b\b\b\b\b\b\b\b\b\b\b\b\b\b\b\b\b\b\b\b\b\b\b\b\b\b\b\b\b\b\b\b\b\b\b\b\b\b\b\b\b\b\b\b\b\b\b\b\b\b\b\b\b\b\b\b\b\b\b\b\r",
      "  2/112 [..............................] - ETA: 5:36 - loss: 0.0222 - accuracy: 1.0000     "
     ]
    },
    {
     "name": "stderr",
     "output_type": "stream",
     "text": [
      "2022-03-07 22:58:37.082755: I tensorflow/core/profiler/lib/profiler_session.cc:66] Profiler session collecting data.\n",
      "2022-03-07 22:58:37.125358: I tensorflow/core/profiler/lib/profiler_session.cc:164] Profiler session tear down.\n",
      "2022-03-07 22:58:37.152702: I tensorflow/core/profiler/rpc/client/save_profile.cc:136] Creating directory: logs/fit/20220307-225826/train/plugins/profile/2022_03_07_22_58_37\n",
      "\n",
      "2022-03-07 22:58:37.160448: I tensorflow/core/profiler/rpc/client/save_profile.cc:142] Dumped gzipped tool data for trace.json.gz to logs/fit/20220307-225826/train/plugins/profile/2022_03_07_22_58_37/xrusa-UX310UA.trace.json.gz\n",
      "2022-03-07 22:58:37.204622: I tensorflow/core/profiler/rpc/client/save_profile.cc:136] Creating directory: logs/fit/20220307-225826/train/plugins/profile/2022_03_07_22_58_37\n",
      "\n",
      "2022-03-07 22:58:37.208236: I tensorflow/core/profiler/rpc/client/save_profile.cc:142] Dumped gzipped tool data for memory_profile.json.gz to logs/fit/20220307-225826/train/plugins/profile/2022_03_07_22_58_37/xrusa-UX310UA.memory_profile.json.gz\n",
      "2022-03-07 22:58:37.209780: I tensorflow/core/profiler/rpc/client/capture_profile.cc:251] Creating directory: logs/fit/20220307-225826/train/plugins/profile/2022_03_07_22_58_37\n",
      "Dumped tool data for xplane.pb to logs/fit/20220307-225826/train/plugins/profile/2022_03_07_22_58_37/xrusa-UX310UA.xplane.pb\n",
      "Dumped tool data for overview_page.pb to logs/fit/20220307-225826/train/plugins/profile/2022_03_07_22_58_37/xrusa-UX310UA.overview_page.pb\n",
      "Dumped tool data for input_pipeline.pb to logs/fit/20220307-225826/train/plugins/profile/2022_03_07_22_58_37/xrusa-UX310UA.input_pipeline.pb\n",
      "Dumped tool data for tensorflow_stats.pb to logs/fit/20220307-225826/train/plugins/profile/2022_03_07_22_58_37/xrusa-UX310UA.tensorflow_stats.pb\n",
      "Dumped tool data for kernel_stats.pb to logs/fit/20220307-225826/train/plugins/profile/2022_03_07_22_58_37/xrusa-UX310UA.kernel_stats.pb\n",
      "\n"
     ]
    },
    {
     "name": "stdout",
     "output_type": "stream",
     "text": [
      "112/112 [==============================] - 372s 3s/step - loss: 0.0186 - accuracy: 0.9933 - val_loss: 0.0408 - val_accuracy: 0.9809\n",
      "Epoch 2/5\n",
      "112/112 [==============================] - 368s 3s/step - loss: 0.0139 - accuracy: 0.9958 - val_loss: 0.0110 - val_accuracy: 0.9978\n",
      "Epoch 3/5\n",
      "112/112 [==============================] - 368s 3s/step - loss: 8.6714e-04 - accuracy: 1.0000 - val_loss: 0.0172 - val_accuracy: 0.9966\n",
      "Epoch 4/5\n",
      "112/112 [==============================] - 361s 3s/step - loss: 0.0033 - accuracy: 0.9994 - val_loss: 0.0108 - val_accuracy: 0.9978\n",
      "Epoch 5/5\n",
      "112/112 [==============================] - 364s 3s/step - loss: 0.0064 - accuracy: 0.9978 - val_loss: 0.0146 - val_accuracy: 0.9978\n"
     ]
    },
    {
     "data": {
      "text/plain": [
       "<tensorflow.python.keras.callbacks.History at 0x7fb1e0e51760>"
      ]
     },
     "execution_count": 18,
     "metadata": {},
     "output_type": "execute_result"
    }
   ],
   "source": [
    "\n",
    "model.compile(optimizer='adam',\n",
    "              loss='categorical_crossentropy',\n",
    "              metrics=['accuracy'])\n",
    "\n",
    "log_dir = \"logs/fit/\" + datetime.datetime.now().strftime(\"%Y%m%d-%H%M%S\")\n",
    "tensorboard_callback = tf.keras.callbacks.TensorBoard(log_dir=log_dir, histogram_freq=1)\n",
    "\n",
    "model.fit(x=X_train, \n",
    "          y=y_train, \n",
    "          epochs=5, \n",
    "          validation_data=(X_test, y_test), \n",
    "          callbacks=[tensorboard_callback])\n"
   ]
  },
  {
   "cell_type": "code",
   "execution_count": 3,
   "id": "5702be33",
   "metadata": {
    "ExecuteTime": {
     "end_time": "2022-03-09T10:31:15.366241Z",
     "start_time": "2022-03-09T10:31:11.312974Z"
    }
   },
   "outputs": [
    {
     "data": {
      "text/html": [
       "\n",
       "      <iframe id=\"tensorboard-frame-cffa178efdd94297\" width=\"100%\" height=\"800\" frameborder=\"0\">\n",
       "      </iframe>\n",
       "      <script>\n",
       "        (function() {\n",
       "          const frame = document.getElementById(\"tensorboard-frame-cffa178efdd94297\");\n",
       "          const url = new URL(\"/\", window.location);\n",
       "          const port = 6006;\n",
       "          if (port) {\n",
       "            url.port = port;\n",
       "          }\n",
       "          frame.src = url;\n",
       "        })();\n",
       "      </script>\n",
       "    "
      ],
      "text/plain": [
       "<IPython.core.display.HTML object>"
      ]
     },
     "metadata": {},
     "output_type": "display_data"
    }
   ],
   "source": [
    "%tensorboard --logdir logs/fit"
   ]
  },
  {
   "cell_type": "code",
   "execution_count": 22,
   "id": "9b1f3701",
   "metadata": {
    "ExecuteTime": {
     "end_time": "2022-03-08T10:44:15.878931Z",
     "start_time": "2022-03-08T10:44:15.874612Z"
    }
   },
   "outputs": [],
   "source": [
    "from tensorboard.plugins.hparams import api as hp"
   ]
  },
  {
   "cell_type": "code",
   "execution_count": 28,
   "id": "f4e8763b",
   "metadata": {
    "ExecuteTime": {
     "end_time": "2022-03-08T10:56:24.485631Z",
     "start_time": "2022-03-08T10:56:24.475818Z"
    }
   },
   "outputs": [],
   "source": [
    "HP_NUM_UNITS = hp.HParam('num_units', hp.Discrete([64, 128]))\n",
    "HP_DROPOUT = hp.HParam('dropout', hp.RealInterval(0.2, 0.3))\n",
    "HP_OPTIMIZER = hp.HParam('optimizer', hp.Discrete(['adam', 'sgd']))\n",
    "HP_L_RATE= hp.HParam('learning_rate', hp.Discrete([0.01, 0.001]))\n",
    "\n",
    "METRIC_ACCURACY = 'accuracy'\n"
   ]
  },
  {
   "cell_type": "code",
   "execution_count": 46,
   "id": "779dea7d",
   "metadata": {
    "ExecuteTime": {
     "end_time": "2022-03-08T11:18:10.047582Z",
     "start_time": "2022-03-08T11:18:10.038181Z"
    }
   },
   "outputs": [],
   "source": [
    "with tf.summary.create_file_writer('logs/hparam_tuning').as_default():\n",
    "    hp.hparams_config(\n",
    "        hparams=[HP_NUM_UNITS, HP_DROPOUT, HP_OPTIMIZER],\n",
    "        metrics=[hp.Metric(METRIC_ACCURACY, display_name='Accuracy')],\n",
    "    )\n"
   ]
  },
  {
   "cell_type": "code",
   "execution_count": 52,
   "id": "6b7de2c2",
   "metadata": {
    "ExecuteTime": {
     "end_time": "2022-03-08T11:23:30.330604Z",
     "start_time": "2022-03-08T11:23:30.321580Z"
    }
   },
   "outputs": [],
   "source": [
    "def train_test_model(hparams):\n",
    "    model = Sequential()\n",
    "    model.add(res_model)\n",
    "    model.add(Dense(hparams[HP_NUM_UNITS], activation='relu'))\n",
    "    model.add(Dropout(hparams[HP_DROPOUT]))\n",
    "    model.add(Dense(len(classes), activation='softmax'))\n",
    "    \n",
    "    model.compile(\n",
    "        optimizer=hparams[HP_OPTIMIZER],\n",
    "        loss='categorical_crossentropy',\n",
    "        metrics=['accuracy'],\n",
    "    )\n",
    "    model.fit(X_train, y_train, epochs=1) # Run with 1 epoch to speed things up for demo purposes\n",
    "    _, accuracy = model.evaluate(X_test, y_test)\n",
    "    return accuracy\n"
   ]
  },
  {
   "cell_type": "code",
   "execution_count": 53,
   "id": "32323c41",
   "metadata": {
    "ExecuteTime": {
     "end_time": "2022-03-08T11:23:36.367105Z",
     "start_time": "2022-03-08T11:23:36.361245Z"
    }
   },
   "outputs": [],
   "source": [
    "def run(run_dir, hparams):\n",
    "    with tf.summary.create_file_writer(run_dir).as_default():\n",
    "        hp.hparams(hparams)  # record the values used in this trial\n",
    "        accuracy = train_test_model(hparams)\n",
    "        tf.summary.scalar(METRIC_ACCURACY, accuracy, step=1)\n"
   ]
  },
  {
   "cell_type": "code",
   "execution_count": 54,
   "id": "9ee1115e",
   "metadata": {
    "ExecuteTime": {
     "end_time": "2022-03-08T12:17:02.721155Z",
     "start_time": "2022-03-08T11:23:53.170068Z"
    }
   },
   "outputs": [
    {
     "name": "stdout",
     "output_type": "stream",
     "text": [
      "--- Starting trial: run-0\n",
      "{'num_units': 64, 'dropout': 0.2, 'optimizer': 'adam'}\n",
      "112/112 [==============================] - 289s 3s/step - loss: 0.1672 - accuracy: 0.9342\n",
      "28/28 [==============================] - 73s 3s/step - loss: 0.0455 - accuracy: 0.9888\n",
      "--- Starting trial: run-1\n",
      "{'num_units': 64, 'dropout': 0.2, 'optimizer': 'sgd'}\n",
      "112/112 [==============================] - 293s 3s/step - loss: 0.2533 - accuracy: 0.9002\n",
      "28/28 [==============================] - 73s 3s/step - loss: 0.1803 - accuracy: 0.9180\n",
      "--- Starting trial: run-2\n",
      "{'num_units': 64, 'dropout': 0.3, 'optimizer': 'adam'}\n",
      "112/112 [==============================] - 293s 3s/step - loss: 0.1545 - accuracy: 0.9325\n",
      "28/28 [==============================] - 74s 3s/step - loss: 0.0635 - accuracy: 0.9820\n",
      "--- Starting trial: run-3\n",
      "{'num_units': 64, 'dropout': 0.3, 'optimizer': 'sgd'}\n",
      "112/112 [==============================] - 308s 3s/step - loss: 0.3503 - accuracy: 0.8650\n",
      "28/28 [==============================] - 77s 3s/step - loss: 0.4394 - accuracy: 0.7674\n",
      "--- Starting trial: run-4\n",
      "{'num_units': 128, 'dropout': 0.2, 'optimizer': 'adam'}\n",
      "112/112 [==============================] - 325s 3s/step - loss: 0.1332 - accuracy: 0.9424\n",
      "28/28 [==============================] - 86s 3s/step - loss: 0.0334 - accuracy: 0.9921\n",
      "--- Starting trial: run-5\n",
      "{'num_units': 128, 'dropout': 0.2, 'optimizer': 'sgd'}\n",
      "112/112 [==============================] - 364s 3s/step - loss: 0.2569 - accuracy: 0.9038\n",
      "28/28 [==============================] - 77s 3s/step - loss: 0.1676 - accuracy: 0.9404\n",
      "--- Starting trial: run-6\n",
      "{'num_units': 128, 'dropout': 0.3, 'optimizer': 'adam'}\n",
      "112/112 [==============================] - 291s 3s/step - loss: 0.2820 - accuracy: 0.8990\n",
      "28/28 [==============================] - 77s 3s/step - loss: 0.0524 - accuracy: 0.9865\n",
      "--- Starting trial: run-7\n",
      "{'num_units': 128, 'dropout': 0.3, 'optimizer': 'sgd'}\n",
      "112/112 [==============================] - 290s 3s/step - loss: 0.2937 - accuracy: 0.8948\n",
      "28/28 [==============================] - 76s 3s/step - loss: 0.1554 - accuracy: 0.9483\n"
     ]
    }
   ],
   "source": [
    "session_num = 0\n",
    "\n",
    "for num_units in HP_NUM_UNITS.domain.values:\n",
    "      for dropout_rate in (HP_DROPOUT.domain.min_value, HP_DROPOUT.domain.max_value):\n",
    "        for optimizer in HP_OPTIMIZER.domain.values:\n",
    "            hparams = {\n",
    "                HP_NUM_UNITS: num_units,\n",
    "                HP_DROPOUT: dropout_rate,\n",
    "                HP_OPTIMIZER: optimizer,\n",
    "            }\n",
    "            run_name = \"run-%d\" % session_num\n",
    "            print('--- Starting trial: %s' % run_name)\n",
    "            print({h.name: hparams[h] for h in hparams})\n",
    "            run('logs/hparam_tuning/' + run_name, hparams)\n",
    "            session_num += 1\n"
   ]
  },
  {
   "cell_type": "code",
   "execution_count": 5,
   "id": "e0a682d9",
   "metadata": {
    "ExecuteTime": {
     "end_time": "2022-03-09T10:38:41.902420Z",
     "start_time": "2022-03-09T10:38:41.889599Z"
    }
   },
   "outputs": [
    {
     "data": {
      "text/plain": [
       "Reusing TensorBoard on port 6007 (pid 6029), started 0:07:13 ago. (Use '!kill 6029' to kill it.)"
      ]
     },
     "metadata": {},
     "output_type": "display_data"
    },
    {
     "data": {
      "text/html": [
       "\n",
       "      <iframe id=\"tensorboard-frame-71cce236ec9f491\" width=\"100%\" height=\"800\" frameborder=\"0\">\n",
       "      </iframe>\n",
       "      <script>\n",
       "        (function() {\n",
       "          const frame = document.getElementById(\"tensorboard-frame-71cce236ec9f491\");\n",
       "          const url = new URL(\"/\", window.location);\n",
       "          const port = 6007;\n",
       "          if (port) {\n",
       "            url.port = port;\n",
       "          }\n",
       "          frame.src = url;\n",
       "        })();\n",
       "      </script>\n",
       "    "
      ],
      "text/plain": [
       "<IPython.core.display.HTML object>"
      ]
     },
     "metadata": {},
     "output_type": "display_data"
    }
   ],
   "source": [
    "%tensorboard --logdir logs/hparam_tuning"
   ]
  },
  {
   "cell_type": "code",
   "execution_count": null,
   "id": "646d68da",
   "metadata": {},
   "outputs": [],
   "source": []
  }
 ],
 "metadata": {
  "kernelspec": {
   "display_name": "Python 3 (ipykernel)",
   "language": "python",
   "name": "python3"
  },
  "language_info": {
   "codemirror_mode": {
    "name": "ipython",
    "version": 3
   },
   "file_extension": ".py",
   "mimetype": "text/x-python",
   "name": "python",
   "nbconvert_exporter": "python",
   "pygments_lexer": "ipython3",
   "version": "3.9.7"
  },
  "toc": {
   "base_numbering": 1,
   "nav_menu": {},
   "number_sections": true,
   "sideBar": true,
   "skip_h1_title": false,
   "title_cell": "Table of Contents",
   "title_sidebar": "Contents",
   "toc_cell": false,
   "toc_position": {
    "height": "calc(100% - 180px)",
    "left": "10px",
    "top": "150px",
    "width": "165px"
   },
   "toc_section_display": true,
   "toc_window_display": true
  }
 },
 "nbformat": 4,
 "nbformat_minor": 5
}
